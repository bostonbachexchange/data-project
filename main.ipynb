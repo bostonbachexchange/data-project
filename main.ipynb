{
 "cells": [
  {
   "cell_type": "code",
   "execution_count": 1,
   "id": "5bbc46d3-e6f5-4451-8da0-b189f50c3de4",
   "metadata": {},
   "outputs": [],
   "source": [
    "import geopandas as gpd\n",
    "import pandas as pd"
   ]
  },
  {
   "cell_type": "code",
   "execution_count": 2,
   "id": "c3e7c859-09e9-47d0-acea-e2c8ec9cb8d2",
   "metadata": {},
   "outputs": [],
   "source": [
    "file_path = \"1976-2022-house.tab\""
   ]
  },
  {
   "cell_type": "code",
   "execution_count": 3,
   "id": "dcb382e9-44c5-4a40-9f3e-fd2be038d4ec",
   "metadata": {},
   "outputs": [],
   "source": [
    "data = pd.read_csv(file_path, sep='\\t')"
   ]
  },
  {
   "cell_type": "code",
   "execution_count": 4,
   "id": "9761f973-88f2-49ed-a0bf-014109ab8483",
   "metadata": {},
   "outputs": [
    {
     "name": "stdout",
     "output_type": "stream",
     "text": [
      "   year    state state_po  state_fips  state_cen  state_ic    office  \\\n",
      "0  1976  ALABAMA       AL           1         63        41  US HOUSE   \n",
      "1  1976  ALABAMA       AL           1         63        41  US HOUSE   \n",
      "2  1976  ALABAMA       AL           1         63        41  US HOUSE   \n",
      "3  1976  ALABAMA       AL           1         63        41  US HOUSE   \n",
      "4  1976  ALABAMA       AL           1         63        41  US HOUSE   \n",
      "\n",
      "   district stage runoff  special                     candidate       party  \\\n",
      "0         1   GEN  False    False                BILL DAVENPORT    DEMOCRAT   \n",
      "1         1   GEN  False    False                  JACK EDWARDS  REPUBLICAN   \n",
      "2         1   GEN  False    False                       WRITEIN         NaN   \n",
      "3         2   GEN  False    False               J CAROLE KEAHEY    DEMOCRAT   \n",
      "4         2   GEN  False    False  WILLIAM L \\BILL\\\" DICKINSON\"  REPUBLICAN   \n",
      "\n",
      "   writein   mode  candidatevotes  totalvotes  unofficial   version  \\\n",
      "0    False  TOTAL           58906      157170       False  20230706   \n",
      "1    False  TOTAL           98257      157170       False  20230706   \n",
      "2     True  TOTAL               7      157170       False  20230706   \n",
      "3    False  TOTAL           66288      156362       False  20230706   \n",
      "4    False  TOTAL           90069      156362       False  20230706   \n",
      "\n",
      "   fusion_ticket  \n",
      "0          False  \n",
      "1          False  \n",
      "2          False  \n",
      "3          False  \n",
      "4          False  \n"
     ]
    }
   ],
   "source": [
    "print(data.head())"
   ]
  },
  {
   "cell_type": "code",
   "execution_count": null,
   "id": "eb398f8b-7ecd-4f9b-94e8-f271ceecd446",
   "metadata": {},
   "outputs": [],
   "source": []
  },
  {
   "cell_type": "code",
   "execution_count": null,
   "id": "4ce403fd-9bd1-4f42-b870-46205a546b58",
   "metadata": {},
   "outputs": [],
   "source": []
  }
 ],
 "metadata": {
  "kernelspec": {
   "display_name": "Python 3 (ipykernel)",
   "language": "python",
   "name": "python3"
  },
  "language_info": {
   "codemirror_mode": {
    "name": "ipython",
    "version": 3
   },
   "file_extension": ".py",
   "mimetype": "text/x-python",
   "name": "python",
   "nbconvert_exporter": "python",
   "pygments_lexer": "ipython3",
   "version": "3.11.6"
  }
 },
 "nbformat": 4,
 "nbformat_minor": 5
}
